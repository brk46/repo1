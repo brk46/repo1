{
 "cells": [
  {
   "cell_type": "code",
   "execution_count": 48,
   "metadata": {},
   "outputs": [],
   "source": [
    " # Dependencies and Setup\n",
    "import matplotlib.pyplot as plt\n",
    "import pandas as pd\n",
    "import numpy as np\n",
    "import requests\n",
    "import time\n",
    "\n",
    "\n",
    "# Import API key\n",
    "import api_keys\n",
    "\n",
    "# Incorporated citipy to determine city based on latitude and longitude\n",
    "from citipy import citipy\n",
    "\n",
    "\n",
    "# Output File (CSV)\n",
    "output_data_file = \"output_data/cities.csv\"\n",
    "\n",
    "# Range of latitudes and longitudes\n",
    "lat_range = (-90, 90)\n",
    "lng_range = (-180, 180)"
   ]
  },
  {
   "cell_type": "code",
   "execution_count": 29,
   "metadata": {},
   "outputs": [],
   "source": [
    "api_key = \"704562a0e399a1bdec66df88ddfde5fe\""
   ]
  },
  {
   "cell_type": "code",
   "execution_count": 30,
   "metadata": {},
   "outputs": [
    {
     "data": {
      "text/plain": [
       "636"
      ]
     },
     "execution_count": 30,
     "metadata": {},
     "output_type": "execute_result"
    }
   ],
   "source": [
    "# List for holding lat_lngs and cities\n",
    "lat_lngs = []\n",
    "cities = []\n",
    "\n",
    "# Create a set of random lat and lng combinations\n",
    "lats = np.random.uniform(low=-90.000, high=90.000, size=1500)\n",
    "lngs = np.random.uniform(low=-180.000, high=180.000, size=1500)\n",
    "lat_lngs = zip(lats, lngs)\n",
    "\n",
    "# Identify nearest city for each lat, lng combination\n",
    "for lat_lng in lat_lngs:\n",
    "    city = citipy.nearest_city(lat_lng[0], lat_lng[1]).city_name\n",
    "    \n",
    "    # If the city is unique, then add it to a our cities list\n",
    "    if city not in cities:\n",
    "        cities.append(city)\n",
    "\n",
    "# Print the city count to confirm sufficient count\n",
    "len(cities)"
   ]
  },
  {
   "cell_type": "code",
   "execution_count": 31,
   "metadata": {},
   "outputs": [
    {
     "data": {
      "text/plain": [
       "'https://api.openweathermap.org/data/2.5/weather?q=Denver&APPID=704562a0e399a1bdec66df88ddfde5fe'"
      ]
     },
     "execution_count": 31,
     "metadata": {},
     "output_type": "execute_result"
    }
   ],
   "source": [
    "url = f\"https://api.openweathermap.org/data/2.5/weather?q=Denver&APPID={api_key}\"\n",
    "url"
   ]
  },
  {
   "cell_type": "code",
   "execution_count": 32,
   "metadata": {},
   "outputs": [],
   "source": [
    "# Temperature (F) vs. Latitude\n",
    "# Humidity (%) vs. Latitude\n",
    "# Cloudiness (%) vs. Latitude\n",
    "# Wind Speed (mph) vs. Latitude"
   ]
  },
  {
   "cell_type": "code",
   "execution_count": 33,
   "metadata": {},
   "outputs": [],
   "source": [
    "response = requests.get(url)\n",
    "jason = response.json()"
   ]
  },
  {
   "cell_type": "code",
   "execution_count": 34,
   "metadata": {},
   "outputs": [],
   "source": [
    "jason.keys()\n",
    "temp = jason[\"main\"][\"temp\"]\n",
    "\n",
    "jason.keys()\n",
    "humidity = jason[\"main\"][\"humidity\"]\n",
    "\n",
    "lat = jason[\"coord\"][\"lat\"]\n",
    "\n",
    "wind_speed = jason[\"wind\"][\"speed\"]\n",
    "\n",
    "cloudiness = jason[\"clouds\"][\"all\"]"
   ]
  },
  {
   "cell_type": "code",
   "execution_count": 35,
   "metadata": {},
   "outputs": [
    {
     "data": {
      "text/plain": [
       "{'coord': {'lon': -104.98, 'lat': 39.74},\n",
       " 'weather': [{'id': 800,\n",
       "   'main': 'Clear',\n",
       "   'description': 'clear sky',\n",
       "   'icon': '01n'}],\n",
       " 'base': 'stations',\n",
       " 'main': {'temp': 286.73,\n",
       "  'pressure': 1021,\n",
       "  'humidity': 62,\n",
       "  'temp_min': 282.15,\n",
       "  'temp_max': 292.15},\n",
       " 'visibility': 16093,\n",
       " 'wind': {'speed': 1.42, 'deg': 128.5},\n",
       " 'clouds': {'all': 1},\n",
       " 'dt': 1540172100,\n",
       " 'sys': {'type': 1,\n",
       "  'id': 602,\n",
       "  'message': 0.0044,\n",
       "  'country': 'US',\n",
       "  'sunrise': 1540214262,\n",
       "  'sunset': 1540253421},\n",
       " 'id': 5419384,\n",
       " 'name': 'Denver',\n",
       " 'cod': 200}"
      ]
     },
     "execution_count": 35,
     "metadata": {},
     "output_type": "execute_result"
    }
   ],
   "source": [
    "jason.keys()\n",
    "jason"
   ]
  },
  {
   "cell_type": "code",
   "execution_count": 36,
   "metadata": {},
   "outputs": [
    {
     "name": "stdout",
     "output_type": "stream",
     "text": [
      "{'coord': {'lon': -39.27, 'lat': -17.73}, 'weather': [{'id': 803, 'main': 'Clouds', 'description': 'broken clouds', 'icon': '04n'}], 'base': 'stations', 'main': {'temp': 297.004, 'pressure': 1030.8, 'humidity': 100, 'temp_min': 297.004, 'temp_max': 297.004, 'sea_level': 1030.9, 'grnd_level': 1030.8}, 'wind': {'speed': 6.42, 'deg': 129}, 'clouds': {'all': 80}, 'dt': 1540174536, 'sys': {'message': 0.0035, 'country': 'BR', 'sunrise': 1540195414, 'sunset': 1540240780}, 'id': 3466980, 'name': 'Caravelas', 'cod': 200}\n",
      "{'coord': {'lon': -58.16, 'lat': 6.8}, 'weather': [{'id': 803, 'main': 'Clouds', 'description': 'broken clouds', 'icon': '04n'}], 'base': 'stations', 'main': {'temp': 298.15, 'pressure': 1009, 'humidity': 94, 'temp_min': 298.15, 'temp_max': 298.15}, 'visibility': 10000, 'wind': {'speed': 2.1, 'deg': 40}, 'clouds': {'all': 75}, 'dt': 1540170000, 'sys': {'type': 1, 'id': 4343, 'message': 0.0035, 'country': 'GY', 'sunrise': 1540201142, 'sunset': 1540244098}, 'id': 3378644, 'name': 'Georgetown', 'cod': 200}\n",
      "{'coord': {'lon': -68.31, 'lat': -54.81}, 'weather': [{'id': 800, 'main': 'Clear', 'description': 'clear sky', 'icon': '01n'}], 'base': 'stations', 'main': {'temp': 270.679, 'pressure': 985.73, 'humidity': 100, 'temp_min': 270.679, 'temp_max': 270.679, 'sea_level': 1032.36, 'grnd_level': 985.73}, 'wind': {'speed': 2.12, 'deg': 228.5}, 'clouds': {'all': 0}, 'dt': 1540174536, 'sys': {'message': 0.0039, 'country': 'AR', 'sunrise': 1540199207, 'sunset': 1540250988}, 'id': 3833367, 'name': 'Ushuaia', 'cod': 200}\n",
      "{'coord': {'lon': 115.35, 'lat': -33.64}, 'weather': [{'id': 803, 'main': 'Clouds', 'description': 'broken clouds', 'icon': '04d'}], 'base': 'stations', 'main': {'temp': 289.504, 'pressure': 1032.74, 'humidity': 100, 'temp_min': 289.504, 'temp_max': 289.504, 'sea_level': 1033.82, 'grnd_level': 1032.74}, 'wind': {'speed': 6.47, 'deg': 225}, 'clouds': {'all': 68}, 'dt': 1540174536, 'sys': {'message': 0.0027, 'country': 'AU', 'sunrise': 1540157365, 'sunset': 1540204636}, 'id': 2075265, 'name': 'Busselton', 'cod': 200}\n",
      "{'coord': {'lon': -133.03, 'lat': 69.44}, 'weather': [{'id': 804, 'main': 'Clouds', 'description': 'overcast clouds', 'icon': '04n'}], 'base': 'stations', 'main': {'temp': 267.15, 'pressure': 1013, 'humidity': 92, 'temp_min': 267.15, 'temp_max': 267.15}, 'visibility': 24140, 'wind': {'speed': 6.7, 'deg': 90}, 'clouds': {'all': 90}, 'dt': 1540173600, 'sys': {'type': 1, 'id': 3555, 'message': 0.005, 'country': 'CA', 'sunrise': 1540225987, 'sunset': 1540255102}, 'id': 6170031, 'name': 'Tuktoyaktuk', 'cod': 200}\n",
      "{'coord': {'lon': 118.96, 'lat': 42.27}, 'weather': [{'id': 800, 'main': 'Clear', 'description': 'clear sky', 'icon': '01d'}], 'base': 'stations', 'main': {'temp': 285.154, 'pressure': 928.82, 'humidity': 39, 'temp_min': 285.154, 'temp_max': 285.154, 'sea_level': 1027.25, 'grnd_level': 928.82}, 'wind': {'speed': 3.27, 'deg': 269.5}, 'clouds': {'all': 0}, 'dt': 1540174537, 'sys': {'message': 0.0028, 'country': 'CN', 'sunrise': 1540160675, 'sunset': 1540199525}, 'id': 2038067, 'name': 'Chifeng', 'cod': 200}\n",
      "{'coord': {'lon': -70.91, 'lat': -53.16}, 'weather': [{'id': 801, 'main': 'Clouds', 'description': 'few clouds', 'icon': '02n'}], 'base': 'stations', 'main': {'temp': 277.15, 'pressure': 1019, 'humidity': 80, 'temp_min': 277.15, 'temp_max': 277.15}, 'visibility': 10000, 'wind': {'speed': 3.1, 'deg': 210}, 'clouds': {'all': 20}, 'dt': 1540170000, 'sys': {'type': 1, 'id': 4642, 'message': 0.0033, 'country': 'CL', 'sunrise': 1540200080, 'sunset': 1540251357}, 'id': 3874787, 'name': 'Punta Arenas', 'cod': 200}\n",
      "{'coord': {'lon': 39, 'lat': -13.13}, 'weather': [{'id': 800, 'main': 'Clear', 'description': 'clear sky', 'icon': '02n'}], 'base': 'stations', 'main': {'temp': 290.079, 'pressure': 976.49, 'humidity': 90, 'temp_min': 290.079, 'temp_max': 290.079, 'sea_level': 1033.09, 'grnd_level': 976.49}, 'wind': {'speed': 7.27, 'deg': 173.5}, 'clouds': {'all': 8}, 'dt': 1540174537, 'sys': {'message': 0.0052, 'country': 'MZ', 'sunrise': 1540176874, 'sunset': 1540221750}, 'id': 1037125, 'name': 'Montepuez', 'cod': 200}\n",
      "{'coord': {'lon': -60.23, 'lat': -38.31}, 'weather': [{'id': 800, 'main': 'Clear', 'description': 'clear sky', 'icon': '01n'}], 'base': 'stations', 'main': {'temp': 287.629, 'pressure': 1016.21, 'humidity': 59, 'temp_min': 287.629, 'temp_max': 287.629, 'sea_level': 1028.31, 'grnd_level': 1016.21}, 'wind': {'speed': 4.72, 'deg': 235}, 'clouds': {'all': 0}, 'dt': 1540174537, 'sys': {'message': 0.0036, 'country': 'AR', 'sunrise': 1540199115, 'sunset': 1540247163}, 'id': 3833859, 'name': 'Barrow', 'cod': 200}\n",
      "{'cod': '404', 'message': 'city not found'}\n"
     ]
    }
   ],
   "source": [
    "data = []\n",
    "for city in cities[:10]:\n",
    "        \n",
    "    # build a URL for the city\n",
    "    url = f\"https://api.openweathermap.org/data/2.5/weather?q={city}&APPID={api_key}\"\n",
    "    \n",
    "    # use request to grab json information\n",
    "    jason = requests.get(url).json()\n",
    "    print(jason)\n",
    "    try:\n",
    "        # unpack json information\n",
    "        jason.keys()\n",
    "        temp = jason[\"main\"][\"temp\"]\n",
    "\n",
    "        jason.keys()\n",
    "        humidity = jason[\"main\"][\"humidity\"]\n",
    "\n",
    "        lat = jason[\"coord\"][\"lat\"]\n",
    "\n",
    "        wind_speed = jason[\"wind\"][\"speed\"]\n",
    "\n",
    "        cloudiness = jason[\"clouds\"][\"all\"]\n",
    "\n",
    "        # output this information to a dictionary object\n",
    "        data.append([temp, humidity, lat, wind_speed, cloudiness, city])\n",
    "        \n",
    "    except:\n",
    "        pass"
   ]
  },
  {
   "cell_type": "code",
   "execution_count": 37,
   "metadata": {},
   "outputs": [
    {
     "data": {
      "text/html": [
       "<div>\n",
       "<style scoped>\n",
       "    .dataframe tbody tr th:only-of-type {\n",
       "        vertical-align: middle;\n",
       "    }\n",
       "\n",
       "    .dataframe tbody tr th {\n",
       "        vertical-align: top;\n",
       "    }\n",
       "\n",
       "    .dataframe thead th {\n",
       "        text-align: right;\n",
       "    }\n",
       "</style>\n",
       "<table border=\"1\" class=\"dataframe\">\n",
       "  <thead>\n",
       "    <tr style=\"text-align: right;\">\n",
       "      <th></th>\n",
       "      <th>temp</th>\n",
       "      <th>humidity</th>\n",
       "      <th>lat</th>\n",
       "      <th>wind_speed</th>\n",
       "      <th>cloudiness</th>\n",
       "      <th>city</th>\n",
       "    </tr>\n",
       "  </thead>\n",
       "  <tbody>\n",
       "    <tr>\n",
       "      <th>0</th>\n",
       "      <td>297.004</td>\n",
       "      <td>100</td>\n",
       "      <td>-17.73</td>\n",
       "      <td>6.42</td>\n",
       "      <td>80</td>\n",
       "      <td>caravelas</td>\n",
       "    </tr>\n",
       "    <tr>\n",
       "      <th>1</th>\n",
       "      <td>298.150</td>\n",
       "      <td>94</td>\n",
       "      <td>6.80</td>\n",
       "      <td>2.10</td>\n",
       "      <td>75</td>\n",
       "      <td>georgetown</td>\n",
       "    </tr>\n",
       "    <tr>\n",
       "      <th>2</th>\n",
       "      <td>270.679</td>\n",
       "      <td>100</td>\n",
       "      <td>-54.81</td>\n",
       "      <td>2.12</td>\n",
       "      <td>0</td>\n",
       "      <td>ushuaia</td>\n",
       "    </tr>\n",
       "    <tr>\n",
       "      <th>3</th>\n",
       "      <td>289.504</td>\n",
       "      <td>100</td>\n",
       "      <td>-33.64</td>\n",
       "      <td>6.47</td>\n",
       "      <td>68</td>\n",
       "      <td>busselton</td>\n",
       "    </tr>\n",
       "    <tr>\n",
       "      <th>4</th>\n",
       "      <td>267.150</td>\n",
       "      <td>92</td>\n",
       "      <td>69.44</td>\n",
       "      <td>6.70</td>\n",
       "      <td>90</td>\n",
       "      <td>tuktoyaktuk</td>\n",
       "    </tr>\n",
       "    <tr>\n",
       "      <th>5</th>\n",
       "      <td>285.154</td>\n",
       "      <td>39</td>\n",
       "      <td>42.27</td>\n",
       "      <td>3.27</td>\n",
       "      <td>0</td>\n",
       "      <td>chifeng</td>\n",
       "    </tr>\n",
       "    <tr>\n",
       "      <th>6</th>\n",
       "      <td>277.150</td>\n",
       "      <td>80</td>\n",
       "      <td>-53.16</td>\n",
       "      <td>3.10</td>\n",
       "      <td>20</td>\n",
       "      <td>punta arenas</td>\n",
       "    </tr>\n",
       "    <tr>\n",
       "      <th>7</th>\n",
       "      <td>290.079</td>\n",
       "      <td>90</td>\n",
       "      <td>-13.13</td>\n",
       "      <td>7.27</td>\n",
       "      <td>8</td>\n",
       "      <td>montepuez</td>\n",
       "    </tr>\n",
       "    <tr>\n",
       "      <th>8</th>\n",
       "      <td>287.629</td>\n",
       "      <td>59</td>\n",
       "      <td>-38.31</td>\n",
       "      <td>4.72</td>\n",
       "      <td>0</td>\n",
       "      <td>barrow</td>\n",
       "    </tr>\n",
       "  </tbody>\n",
       "</table>\n",
       "</div>"
      ],
      "text/plain": [
       "      temp  humidity    lat  wind_speed  cloudiness          city\n",
       "0  297.004       100 -17.73        6.42          80     caravelas\n",
       "1  298.150        94   6.80        2.10          75    georgetown\n",
       "2  270.679       100 -54.81        2.12           0       ushuaia\n",
       "3  289.504       100 -33.64        6.47          68     busselton\n",
       "4  267.150        92  69.44        6.70          90   tuktoyaktuk\n",
       "5  285.154        39  42.27        3.27           0       chifeng\n",
       "6  277.150        80 -53.16        3.10          20  punta arenas\n",
       "7  290.079        90 -13.13        7.27           8     montepuez\n",
       "8  287.629        59 -38.31        4.72           0        barrow"
      ]
     },
     "execution_count": 37,
     "metadata": {},
     "output_type": "execute_result"
    }
   ],
   "source": [
    "pd.DataFrame(data, columns = [\"temp\", \"humidity\", \"lat\", \"wind_speed\", \"cloudiness\", \"city\"])"
   ]
  },
  {
   "cell_type": "code",
   "execution_count": 38,
   "metadata": {},
   "outputs": [
    {
     "data": {
      "text/plain": [
       "dict_keys(['cod', 'message'])"
      ]
     },
     "execution_count": 38,
     "metadata": {},
     "output_type": "execute_result"
    }
   ],
   "source": [
    "jason.keys()"
   ]
  },
  {
   "cell_type": "code",
   "execution_count": 49,
   "metadata": {},
   "outputs": [
    {
     "data": {
      "text/html": [
       "<div>\n",
       "<style scoped>\n",
       "    .dataframe tbody tr th:only-of-type {\n",
       "        vertical-align: middle;\n",
       "    }\n",
       "\n",
       "    .dataframe tbody tr th {\n",
       "        vertical-align: top;\n",
       "    }\n",
       "\n",
       "    .dataframe thead th {\n",
       "        text-align: right;\n",
       "    }\n",
       "</style>\n",
       "<table border=\"1\" class=\"dataframe\">\n",
       "  <thead>\n",
       "    <tr style=\"text-align: right;\">\n",
       "      <th></th>\n",
       "      <th>temp</th>\n",
       "      <th>humidity</th>\n",
       "      <th>lat</th>\n",
       "      <th>wind_speed</th>\n",
       "      <th>cloudiness</th>\n",
       "      <th>city</th>\n",
       "    </tr>\n",
       "  </thead>\n",
       "  <tbody>\n",
       "    <tr>\n",
       "      <th>0</th>\n",
       "      <td>297.004</td>\n",
       "      <td>100</td>\n",
       "      <td>-17.73</td>\n",
       "      <td>6.42</td>\n",
       "      <td>80</td>\n",
       "      <td>caravelas</td>\n",
       "    </tr>\n",
       "    <tr>\n",
       "      <th>1</th>\n",
       "      <td>298.150</td>\n",
       "      <td>94</td>\n",
       "      <td>6.80</td>\n",
       "      <td>2.10</td>\n",
       "      <td>75</td>\n",
       "      <td>georgetown</td>\n",
       "    </tr>\n",
       "    <tr>\n",
       "      <th>2</th>\n",
       "      <td>270.679</td>\n",
       "      <td>100</td>\n",
       "      <td>-54.81</td>\n",
       "      <td>2.12</td>\n",
       "      <td>0</td>\n",
       "      <td>ushuaia</td>\n",
       "    </tr>\n",
       "    <tr>\n",
       "      <th>3</th>\n",
       "      <td>289.504</td>\n",
       "      <td>100</td>\n",
       "      <td>-33.64</td>\n",
       "      <td>6.47</td>\n",
       "      <td>68</td>\n",
       "      <td>busselton</td>\n",
       "    </tr>\n",
       "    <tr>\n",
       "      <th>4</th>\n",
       "      <td>267.150</td>\n",
       "      <td>92</td>\n",
       "      <td>69.44</td>\n",
       "      <td>6.70</td>\n",
       "      <td>90</td>\n",
       "      <td>tuktoyaktuk</td>\n",
       "    </tr>\n",
       "    <tr>\n",
       "      <th>5</th>\n",
       "      <td>285.154</td>\n",
       "      <td>39</td>\n",
       "      <td>42.27</td>\n",
       "      <td>3.27</td>\n",
       "      <td>0</td>\n",
       "      <td>chifeng</td>\n",
       "    </tr>\n",
       "    <tr>\n",
       "      <th>6</th>\n",
       "      <td>277.150</td>\n",
       "      <td>80</td>\n",
       "      <td>-53.16</td>\n",
       "      <td>3.10</td>\n",
       "      <td>20</td>\n",
       "      <td>punta arenas</td>\n",
       "    </tr>\n",
       "    <tr>\n",
       "      <th>7</th>\n",
       "      <td>290.079</td>\n",
       "      <td>90</td>\n",
       "      <td>-13.13</td>\n",
       "      <td>7.27</td>\n",
       "      <td>8</td>\n",
       "      <td>montepuez</td>\n",
       "    </tr>\n",
       "    <tr>\n",
       "      <th>8</th>\n",
       "      <td>287.629</td>\n",
       "      <td>59</td>\n",
       "      <td>-38.31</td>\n",
       "      <td>4.72</td>\n",
       "      <td>0</td>\n",
       "      <td>barrow</td>\n",
       "    </tr>\n",
       "  </tbody>\n",
       "</table>\n",
       "</div>"
      ],
      "text/plain": [
       "      temp  humidity    lat  wind_speed  cloudiness          city\n",
       "0  297.004       100 -17.73        6.42          80     caravelas\n",
       "1  298.150        94   6.80        2.10          75    georgetown\n",
       "2  270.679       100 -54.81        2.12           0       ushuaia\n",
       "3  289.504       100 -33.64        6.47          68     busselton\n",
       "4  267.150        92  69.44        6.70          90   tuktoyaktuk\n",
       "5  285.154        39  42.27        3.27           0       chifeng\n",
       "6  277.150        80 -53.16        3.10          20  punta arenas\n",
       "7  290.079        90 -13.13        7.27           8     montepuez\n",
       "8  287.629        59 -38.31        4.72           0        barrow"
      ]
     },
     "execution_count": 49,
     "metadata": {},
     "output_type": "execute_result"
    }
   ],
   "source": [
    "pd.DataFrame(data)\n",
    "pd.DataFrame(data, columns = [\"temp\", \"humidity\", \"lat\", \"wind_speed\", \"cloudiness\", \"city\"])"
   ]
  }
 ],
 "metadata": {
  "kernelspec": {
   "display_name": "Python 3",
   "language": "python",
   "name": "python3"
  },
  "language_info": {
   "codemirror_mode": {
    "name": "ipython",
    "version": 3
   },
   "file_extension": ".py",
   "mimetype": "text/x-python",
   "name": "python",
   "nbconvert_exporter": "python",
   "pygments_lexer": "ipython3",
   "version": "3.6.5"
  }
 },
 "nbformat": 4,
 "nbformat_minor": 2
}
